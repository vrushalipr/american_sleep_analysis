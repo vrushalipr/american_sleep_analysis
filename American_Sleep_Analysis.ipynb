{
  "nbformat": 4,
  "nbformat_minor": 0,
  "metadata": {
    "colab": {
      "provenance": [],
      "mount_file_id": "1JTtqkKDSLn_J2qjB_W19fbHVwRDJq-J6",
      "authorship_tag": "ABX9TyMncIPqKAbqH7TPxUU2rg5s"
    },
    "kernelspec": {
      "name": "python3",
      "display_name": "Python 3"
    },
    "language_info": {
      "name": "python"
    }
  },
  "cells": [
    {
      "cell_type": "markdown",
      "source": [
        "How to use the dataset\n",
        "This dataset includes data on the average number of hours per day Americans spend sleeping, broken down by age group, sex, and activity. This can be used to understand patterns in sleep habits among different groups of people, as well as how these patterns may change over time.\n",
        "\n",
        "To use this dataset effectively, it is important to understand the different variables that are included. The 'Age Group' variable indicates the age group that the data applies to, while the 'Sex' variable indicates whether the data is for male or female respondents. The 'Activity' variable indicates what activity was being undertaken when the respondent was asked about their sleep habits (e.g. 'sleeping', 'working', 'watching TV', etc.), while the 'Type of Days' variable indicates whether the data was collected for weekdays, weekends, or holidays.\n",
        "\n",
        "Finally, the 'Avg hrs per day sleeping' and 'Standard Error' variables give information on the average amount of time spent sleeping per day, along with a measure of how accurate this estimate is\n",
        "\n",
        "**Research Ideas:**\n",
        "\n",
        "To study the effect of sleep deprivation on health\n",
        "\n",
        "To understand the role of sleep in regulating mood and behavior\n",
        "\n",
        "To examine the relationship between sleep and cognitive function"
      ],
      "metadata": {
        "id": "pnYo4N_gWfvP"
      }
    },
    {
      "cell_type": "code",
      "execution_count": 1,
      "metadata": {
        "id": "UwEfKWyGWc6N"
      },
      "outputs": [],
      "source": [
        "import pandas as pd\n",
        "import numpy as np\n",
        "import matplotlib.pyplot as plt\n",
        "\n",
        "%matplotlib inline\n",
        "import seaborn as sns"
      ]
    },
    {
      "cell_type": "code",
      "source": [
        "sleep_df = pd.read_csv('/content/drive/MyDrive/Data Projects/Sleep Time Prediction/Time Americans Spend Sleeping.csv')"
      ],
      "metadata": {
        "id": "xg0yr48CWwW5"
      },
      "execution_count": 2,
      "outputs": []
    },
    {
      "cell_type": "code",
      "source": [
        "sleep_df.head()"
      ],
      "metadata": {
        "colab": {
          "base_uri": "https://localhost:8080/",
          "height": 206
        },
        "id": "tN7U9Vj1WwZZ",
        "outputId": "aa54e57b-f90f-4989-aae0-293b27b05ae8"
      },
      "execution_count": 3,
      "outputs": [
        {
          "output_type": "execute_result",
          "data": {
            "text/plain": [
              "   index  Year  Period  Avg hrs per day sleeping  Standard Error Type of Days  \\\n",
              "0      0  2003  Annual                      8.57           0.018     All days   \n",
              "1      1  2004  Annual                      8.55           0.026     All days   \n",
              "2      2  2005  Annual                      8.62           0.023     All days   \n",
              "3      3  2006  Annual                      8.63           0.024     All days   \n",
              "4      4  2007  Annual                      8.57           0.024     All days   \n",
              "\n",
              "           Age Group  Activity   Sex  \n",
              "0  15 years and over  Sleeping  Both  \n",
              "1  15 years and over  Sleeping  Both  \n",
              "2  15 years and over  Sleeping  Both  \n",
              "3  15 years and over  Sleeping  Both  \n",
              "4  15 years and over  Sleeping  Both  "
            ],
            "text/html": [
              "\n",
              "  <div id=\"df-1e767891-b288-44f1-8e8e-22d526afff7f\">\n",
              "    <div class=\"colab-df-container\">\n",
              "      <div>\n",
              "<style scoped>\n",
              "    .dataframe tbody tr th:only-of-type {\n",
              "        vertical-align: middle;\n",
              "    }\n",
              "\n",
              "    .dataframe tbody tr th {\n",
              "        vertical-align: top;\n",
              "    }\n",
              "\n",
              "    .dataframe thead th {\n",
              "        text-align: right;\n",
              "    }\n",
              "</style>\n",
              "<table border=\"1\" class=\"dataframe\">\n",
              "  <thead>\n",
              "    <tr style=\"text-align: right;\">\n",
              "      <th></th>\n",
              "      <th>index</th>\n",
              "      <th>Year</th>\n",
              "      <th>Period</th>\n",
              "      <th>Avg hrs per day sleeping</th>\n",
              "      <th>Standard Error</th>\n",
              "      <th>Type of Days</th>\n",
              "      <th>Age Group</th>\n",
              "      <th>Activity</th>\n",
              "      <th>Sex</th>\n",
              "    </tr>\n",
              "  </thead>\n",
              "  <tbody>\n",
              "    <tr>\n",
              "      <th>0</th>\n",
              "      <td>0</td>\n",
              "      <td>2003</td>\n",
              "      <td>Annual</td>\n",
              "      <td>8.57</td>\n",
              "      <td>0.018</td>\n",
              "      <td>All days</td>\n",
              "      <td>15 years and over</td>\n",
              "      <td>Sleeping</td>\n",
              "      <td>Both</td>\n",
              "    </tr>\n",
              "    <tr>\n",
              "      <th>1</th>\n",
              "      <td>1</td>\n",
              "      <td>2004</td>\n",
              "      <td>Annual</td>\n",
              "      <td>8.55</td>\n",
              "      <td>0.026</td>\n",
              "      <td>All days</td>\n",
              "      <td>15 years and over</td>\n",
              "      <td>Sleeping</td>\n",
              "      <td>Both</td>\n",
              "    </tr>\n",
              "    <tr>\n",
              "      <th>2</th>\n",
              "      <td>2</td>\n",
              "      <td>2005</td>\n",
              "      <td>Annual</td>\n",
              "      <td>8.62</td>\n",
              "      <td>0.023</td>\n",
              "      <td>All days</td>\n",
              "      <td>15 years and over</td>\n",
              "      <td>Sleeping</td>\n",
              "      <td>Both</td>\n",
              "    </tr>\n",
              "    <tr>\n",
              "      <th>3</th>\n",
              "      <td>3</td>\n",
              "      <td>2006</td>\n",
              "      <td>Annual</td>\n",
              "      <td>8.63</td>\n",
              "      <td>0.024</td>\n",
              "      <td>All days</td>\n",
              "      <td>15 years and over</td>\n",
              "      <td>Sleeping</td>\n",
              "      <td>Both</td>\n",
              "    </tr>\n",
              "    <tr>\n",
              "      <th>4</th>\n",
              "      <td>4</td>\n",
              "      <td>2007</td>\n",
              "      <td>Annual</td>\n",
              "      <td>8.57</td>\n",
              "      <td>0.024</td>\n",
              "      <td>All days</td>\n",
              "      <td>15 years and over</td>\n",
              "      <td>Sleeping</td>\n",
              "      <td>Both</td>\n",
              "    </tr>\n",
              "  </tbody>\n",
              "</table>\n",
              "</div>\n",
              "      <button class=\"colab-df-convert\" onclick=\"convertToInteractive('df-1e767891-b288-44f1-8e8e-22d526afff7f')\"\n",
              "              title=\"Convert this dataframe to an interactive table.\"\n",
              "              style=\"display:none;\">\n",
              "        \n",
              "  <svg xmlns=\"http://www.w3.org/2000/svg\" height=\"24px\"viewBox=\"0 0 24 24\"\n",
              "       width=\"24px\">\n",
              "    <path d=\"M0 0h24v24H0V0z\" fill=\"none\"/>\n",
              "    <path d=\"M18.56 5.44l.94 2.06.94-2.06 2.06-.94-2.06-.94-.94-2.06-.94 2.06-2.06.94zm-11 1L8.5 8.5l.94-2.06 2.06-.94-2.06-.94L8.5 2.5l-.94 2.06-2.06.94zm10 10l.94 2.06.94-2.06 2.06-.94-2.06-.94-.94-2.06-.94 2.06-2.06.94z\"/><path d=\"M17.41 7.96l-1.37-1.37c-.4-.4-.92-.59-1.43-.59-.52 0-1.04.2-1.43.59L10.3 9.45l-7.72 7.72c-.78.78-.78 2.05 0 2.83L4 21.41c.39.39.9.59 1.41.59.51 0 1.02-.2 1.41-.59l7.78-7.78 2.81-2.81c.8-.78.8-2.07 0-2.86zM5.41 20L4 18.59l7.72-7.72 1.47 1.35L5.41 20z\"/>\n",
              "  </svg>\n",
              "      </button>\n",
              "      \n",
              "  <style>\n",
              "    .colab-df-container {\n",
              "      display:flex;\n",
              "      flex-wrap:wrap;\n",
              "      gap: 12px;\n",
              "    }\n",
              "\n",
              "    .colab-df-convert {\n",
              "      background-color: #E8F0FE;\n",
              "      border: none;\n",
              "      border-radius: 50%;\n",
              "      cursor: pointer;\n",
              "      display: none;\n",
              "      fill: #1967D2;\n",
              "      height: 32px;\n",
              "      padding: 0 0 0 0;\n",
              "      width: 32px;\n",
              "    }\n",
              "\n",
              "    .colab-df-convert:hover {\n",
              "      background-color: #E2EBFA;\n",
              "      box-shadow: 0px 1px 2px rgba(60, 64, 67, 0.3), 0px 1px 3px 1px rgba(60, 64, 67, 0.15);\n",
              "      fill: #174EA6;\n",
              "    }\n",
              "\n",
              "    [theme=dark] .colab-df-convert {\n",
              "      background-color: #3B4455;\n",
              "      fill: #D2E3FC;\n",
              "    }\n",
              "\n",
              "    [theme=dark] .colab-df-convert:hover {\n",
              "      background-color: #434B5C;\n",
              "      box-shadow: 0px 1px 3px 1px rgba(0, 0, 0, 0.15);\n",
              "      filter: drop-shadow(0px 1px 2px rgba(0, 0, 0, 0.3));\n",
              "      fill: #FFFFFF;\n",
              "    }\n",
              "  </style>\n",
              "\n",
              "      <script>\n",
              "        const buttonEl =\n",
              "          document.querySelector('#df-1e767891-b288-44f1-8e8e-22d526afff7f button.colab-df-convert');\n",
              "        buttonEl.style.display =\n",
              "          google.colab.kernel.accessAllowed ? 'block' : 'none';\n",
              "\n",
              "        async function convertToInteractive(key) {\n",
              "          const element = document.querySelector('#df-1e767891-b288-44f1-8e8e-22d526afff7f');\n",
              "          const dataTable =\n",
              "            await google.colab.kernel.invokeFunction('convertToInteractive',\n",
              "                                                     [key], {});\n",
              "          if (!dataTable) return;\n",
              "\n",
              "          const docLinkHtml = 'Like what you see? Visit the ' +\n",
              "            '<a target=\"_blank\" href=https://colab.research.google.com/notebooks/data_table.ipynb>data table notebook</a>'\n",
              "            + ' to learn more about interactive tables.';\n",
              "          element.innerHTML = '';\n",
              "          dataTable['output_type'] = 'display_data';\n",
              "          await google.colab.output.renderOutput(dataTable, element);\n",
              "          const docLink = document.createElement('div');\n",
              "          docLink.innerHTML = docLinkHtml;\n",
              "          element.appendChild(docLink);\n",
              "        }\n",
              "      </script>\n",
              "    </div>\n",
              "  </div>\n",
              "  "
            ]
          },
          "metadata": {},
          "execution_count": 3
        }
      ]
    },
    {
      "cell_type": "code",
      "source": [
        "sleep_df.shape"
      ],
      "metadata": {
        "colab": {
          "base_uri": "https://localhost:8080/"
        },
        "id": "Y5XxesftWwbt",
        "outputId": "ddeff9e9-8278-438d-a89d-9aa2a725f3ac"
      },
      "execution_count": 4,
      "outputs": [
        {
          "output_type": "execute_result",
          "data": {
            "text/plain": [
              "(945, 9)"
            ]
          },
          "metadata": {},
          "execution_count": 4
        }
      ]
    },
    {
      "cell_type": "code",
      "source": [
        "sleep_df.dtypes"
      ],
      "metadata": {
        "colab": {
          "base_uri": "https://localhost:8080/"
        },
        "id": "0Rr1nNKMWweT",
        "outputId": "5ce1849d-c2d7-4f53-9dac-be1f0c9006ea"
      },
      "execution_count": 6,
      "outputs": [
        {
          "output_type": "execute_result",
          "data": {
            "text/plain": [
              "index                         int64\n",
              "Year                          int64\n",
              "Period                       object\n",
              "Avg hrs per day sleeping    float64\n",
              "Standard Error              float64\n",
              "Type of Days                 object\n",
              "Age Group                    object\n",
              "Activity                     object\n",
              "Sex                          object\n",
              "dtype: object"
            ]
          },
          "metadata": {},
          "execution_count": 6
        }
      ]
    },
    {
      "cell_type": "code",
      "source": [
        "sleep_df.info()"
      ],
      "metadata": {
        "colab": {
          "base_uri": "https://localhost:8080/"
        },
        "id": "NSO-eneCXKXu",
        "outputId": "e6fae69d-112c-4be0-98c3-6209b7ff8bec"
      },
      "execution_count": 7,
      "outputs": [
        {
          "output_type": "stream",
          "name": "stdout",
          "text": [
            "<class 'pandas.core.frame.DataFrame'>\n",
            "RangeIndex: 945 entries, 0 to 944\n",
            "Data columns (total 9 columns):\n",
            " #   Column                    Non-Null Count  Dtype  \n",
            "---  ------                    --------------  -----  \n",
            " 0   index                     945 non-null    int64  \n",
            " 1   Year                      945 non-null    int64  \n",
            " 2   Period                    945 non-null    object \n",
            " 3   Avg hrs per day sleeping  945 non-null    float64\n",
            " 4   Standard Error            945 non-null    float64\n",
            " 5   Type of Days              945 non-null    object \n",
            " 6   Age Group                 945 non-null    object \n",
            " 7   Activity                  945 non-null    object \n",
            " 8   Sex                       945 non-null    object \n",
            "dtypes: float64(2), int64(2), object(5)\n",
            "memory usage: 66.6+ KB\n"
          ]
        }
      ]
    },
    {
      "cell_type": "code",
      "source": [
        "sleep_df.isna().sum()"
      ],
      "metadata": {
        "colab": {
          "base_uri": "https://localhost:8080/"
        },
        "id": "K_DW9BNgXR5Z",
        "outputId": "06aabf08-f008-4f6e-f68a-99837a9e50a2"
      },
      "execution_count": 8,
      "outputs": [
        {
          "output_type": "execute_result",
          "data": {
            "text/plain": [
              "index                       0\n",
              "Year                        0\n",
              "Period                      0\n",
              "Avg hrs per day sleeping    0\n",
              "Standard Error              0\n",
              "Type of Days                0\n",
              "Age Group                   0\n",
              "Activity                    0\n",
              "Sex                         0\n",
              "dtype: int64"
            ]
          },
          "metadata": {},
          "execution_count": 8
        }
      ]
    },
    {
      "cell_type": "code",
      "source": [
        "sleep_df.describe()"
      ],
      "metadata": {
        "colab": {
          "base_uri": "https://localhost:8080/",
          "height": 300
        },
        "id": "4KC1EdKyXR8Z",
        "outputId": "ffbcbffb-ad3b-401f-db44-556058e8a1ef"
      },
      "execution_count": 10,
      "outputs": [
        {
          "output_type": "execute_result",
          "data": {
            "text/plain": [
              "            index         Year  Avg hrs per day sleeping  Standard Error\n",
              "count  945.000000   945.000000                945.000000      945.000000\n",
              "mean   472.000000  2010.000000                  8.806868        0.086958\n",
              "std    272.942302     4.322782                  0.545001        0.034631\n",
              "min      0.000000  2003.000000                  7.720000        0.018000\n",
              "25%    236.000000  2006.000000                  8.360000        0.063000\n",
              "50%    472.000000  2010.000000                  8.810000        0.084000\n",
              "75%    708.000000  2014.000000                  9.190000        0.106000\n",
              "max    944.000000  2017.000000                 10.650000        0.228000"
            ],
            "text/html": [
              "\n",
              "  <div id=\"df-5cff9ea7-fa47-43d1-aa51-ad54e3974496\">\n",
              "    <div class=\"colab-df-container\">\n",
              "      <div>\n",
              "<style scoped>\n",
              "    .dataframe tbody tr th:only-of-type {\n",
              "        vertical-align: middle;\n",
              "    }\n",
              "\n",
              "    .dataframe tbody tr th {\n",
              "        vertical-align: top;\n",
              "    }\n",
              "\n",
              "    .dataframe thead th {\n",
              "        text-align: right;\n",
              "    }\n",
              "</style>\n",
              "<table border=\"1\" class=\"dataframe\">\n",
              "  <thead>\n",
              "    <tr style=\"text-align: right;\">\n",
              "      <th></th>\n",
              "      <th>index</th>\n",
              "      <th>Year</th>\n",
              "      <th>Avg hrs per day sleeping</th>\n",
              "      <th>Standard Error</th>\n",
              "    </tr>\n",
              "  </thead>\n",
              "  <tbody>\n",
              "    <tr>\n",
              "      <th>count</th>\n",
              "      <td>945.000000</td>\n",
              "      <td>945.000000</td>\n",
              "      <td>945.000000</td>\n",
              "      <td>945.000000</td>\n",
              "    </tr>\n",
              "    <tr>\n",
              "      <th>mean</th>\n",
              "      <td>472.000000</td>\n",
              "      <td>2010.000000</td>\n",
              "      <td>8.806868</td>\n",
              "      <td>0.086958</td>\n",
              "    </tr>\n",
              "    <tr>\n",
              "      <th>std</th>\n",
              "      <td>272.942302</td>\n",
              "      <td>4.322782</td>\n",
              "      <td>0.545001</td>\n",
              "      <td>0.034631</td>\n",
              "    </tr>\n",
              "    <tr>\n",
              "      <th>min</th>\n",
              "      <td>0.000000</td>\n",
              "      <td>2003.000000</td>\n",
              "      <td>7.720000</td>\n",
              "      <td>0.018000</td>\n",
              "    </tr>\n",
              "    <tr>\n",
              "      <th>25%</th>\n",
              "      <td>236.000000</td>\n",
              "      <td>2006.000000</td>\n",
              "      <td>8.360000</td>\n",
              "      <td>0.063000</td>\n",
              "    </tr>\n",
              "    <tr>\n",
              "      <th>50%</th>\n",
              "      <td>472.000000</td>\n",
              "      <td>2010.000000</td>\n",
              "      <td>8.810000</td>\n",
              "      <td>0.084000</td>\n",
              "    </tr>\n",
              "    <tr>\n",
              "      <th>75%</th>\n",
              "      <td>708.000000</td>\n",
              "      <td>2014.000000</td>\n",
              "      <td>9.190000</td>\n",
              "      <td>0.106000</td>\n",
              "    </tr>\n",
              "    <tr>\n",
              "      <th>max</th>\n",
              "      <td>944.000000</td>\n",
              "      <td>2017.000000</td>\n",
              "      <td>10.650000</td>\n",
              "      <td>0.228000</td>\n",
              "    </tr>\n",
              "  </tbody>\n",
              "</table>\n",
              "</div>\n",
              "      <button class=\"colab-df-convert\" onclick=\"convertToInteractive('df-5cff9ea7-fa47-43d1-aa51-ad54e3974496')\"\n",
              "              title=\"Convert this dataframe to an interactive table.\"\n",
              "              style=\"display:none;\">\n",
              "        \n",
              "  <svg xmlns=\"http://www.w3.org/2000/svg\" height=\"24px\"viewBox=\"0 0 24 24\"\n",
              "       width=\"24px\">\n",
              "    <path d=\"M0 0h24v24H0V0z\" fill=\"none\"/>\n",
              "    <path d=\"M18.56 5.44l.94 2.06.94-2.06 2.06-.94-2.06-.94-.94-2.06-.94 2.06-2.06.94zm-11 1L8.5 8.5l.94-2.06 2.06-.94-2.06-.94L8.5 2.5l-.94 2.06-2.06.94zm10 10l.94 2.06.94-2.06 2.06-.94-2.06-.94-.94-2.06-.94 2.06-2.06.94z\"/><path d=\"M17.41 7.96l-1.37-1.37c-.4-.4-.92-.59-1.43-.59-.52 0-1.04.2-1.43.59L10.3 9.45l-7.72 7.72c-.78.78-.78 2.05 0 2.83L4 21.41c.39.39.9.59 1.41.59.51 0 1.02-.2 1.41-.59l7.78-7.78 2.81-2.81c.8-.78.8-2.07 0-2.86zM5.41 20L4 18.59l7.72-7.72 1.47 1.35L5.41 20z\"/>\n",
              "  </svg>\n",
              "      </button>\n",
              "      \n",
              "  <style>\n",
              "    .colab-df-container {\n",
              "      display:flex;\n",
              "      flex-wrap:wrap;\n",
              "      gap: 12px;\n",
              "    }\n",
              "\n",
              "    .colab-df-convert {\n",
              "      background-color: #E8F0FE;\n",
              "      border: none;\n",
              "      border-radius: 50%;\n",
              "      cursor: pointer;\n",
              "      display: none;\n",
              "      fill: #1967D2;\n",
              "      height: 32px;\n",
              "      padding: 0 0 0 0;\n",
              "      width: 32px;\n",
              "    }\n",
              "\n",
              "    .colab-df-convert:hover {\n",
              "      background-color: #E2EBFA;\n",
              "      box-shadow: 0px 1px 2px rgba(60, 64, 67, 0.3), 0px 1px 3px 1px rgba(60, 64, 67, 0.15);\n",
              "      fill: #174EA6;\n",
              "    }\n",
              "\n",
              "    [theme=dark] .colab-df-convert {\n",
              "      background-color: #3B4455;\n",
              "      fill: #D2E3FC;\n",
              "    }\n",
              "\n",
              "    [theme=dark] .colab-df-convert:hover {\n",
              "      background-color: #434B5C;\n",
              "      box-shadow: 0px 1px 3px 1px rgba(0, 0, 0, 0.15);\n",
              "      filter: drop-shadow(0px 1px 2px rgba(0, 0, 0, 0.3));\n",
              "      fill: #FFFFFF;\n",
              "    }\n",
              "  </style>\n",
              "\n",
              "      <script>\n",
              "        const buttonEl =\n",
              "          document.querySelector('#df-5cff9ea7-fa47-43d1-aa51-ad54e3974496 button.colab-df-convert');\n",
              "        buttonEl.style.display =\n",
              "          google.colab.kernel.accessAllowed ? 'block' : 'none';\n",
              "\n",
              "        async function convertToInteractive(key) {\n",
              "          const element = document.querySelector('#df-5cff9ea7-fa47-43d1-aa51-ad54e3974496');\n",
              "          const dataTable =\n",
              "            await google.colab.kernel.invokeFunction('convertToInteractive',\n",
              "                                                     [key], {});\n",
              "          if (!dataTable) return;\n",
              "\n",
              "          const docLinkHtml = 'Like what you see? Visit the ' +\n",
              "            '<a target=\"_blank\" href=https://colab.research.google.com/notebooks/data_table.ipynb>data table notebook</a>'\n",
              "            + ' to learn more about interactive tables.';\n",
              "          element.innerHTML = '';\n",
              "          dataTable['output_type'] = 'display_data';\n",
              "          await google.colab.output.renderOutput(dataTable, element);\n",
              "          const docLink = document.createElement('div');\n",
              "          docLink.innerHTML = docLinkHtml;\n",
              "          element.appendChild(docLink);\n",
              "        }\n",
              "      </script>\n",
              "    </div>\n",
              "  </div>\n",
              "  "
            ]
          },
          "metadata": {},
          "execution_count": 10
        }
      ]
    },
    {
      "cell_type": "code",
      "source": [
        "# Removing unwanted columns\n",
        "sleep_df.drop(labels=['index'], axis='columns',inplace=True)"
      ],
      "metadata": {
        "id": "gXYeU8TLXmP6"
      },
      "execution_count": 11,
      "outputs": []
    },
    {
      "cell_type": "code",
      "source": [
        "sleep_df.shape"
      ],
      "metadata": {
        "colab": {
          "base_uri": "https://localhost:8080/"
        },
        "id": "BZW_IdPQXR-S",
        "outputId": "d42542c6-1ba8-491c-ef66-a421a51fe9e5"
      },
      "execution_count": 12,
      "outputs": [
        {
          "output_type": "execute_result",
          "data": {
            "text/plain": [
              "(945, 8)"
            ]
          },
          "metadata": {},
          "execution_count": 12
        }
      ]
    },
    {
      "cell_type": "code",
      "source": [
        "# Visualising 'Year' column\n",
        "plt.figure(figsize=(8,8))\n",
        "g = sns.distplot(a=sleep_df['Year'])\n",
        "p = plt.title('Year')"
      ],
      "metadata": {
        "colab": {
          "base_uri": "https://localhost:8080/",
          "height": 569
        },
        "id": "CHy6QDywXSA7",
        "outputId": "2d416a77-0704-4521-ee35-e9d1147f088e"
      },
      "execution_count": 13,
      "outputs": [
        {
          "output_type": "stream",
          "name": "stderr",
          "text": [
            "/usr/local/lib/python3.8/dist-packages/seaborn/distributions.py:2619: FutureWarning: `distplot` is a deprecated function and will be removed in a future version. Please adapt your code to use either `displot` (a figure-level function with similar flexibility) or `histplot` (an axes-level function for histograms).\n",
            "  warnings.warn(msg, FutureWarning)\n"
          ]
        },
        {
          "output_type": "display_data",
          "data": {
            "text/plain": [
              "<Figure size 576x576 with 1 Axes>"
            ],
            "image/png": "[encoded data removed]"
          },
          "metadata": {
            "needs_background": "light"
          }
        }
      ]
    },
    {
      "cell_type": "code",
      "source": [
        "# Lets Check outliers in 'Rating' Column\n",
        "plt.figure(figsize=(5,5))\n",
        "sns.boxplot(y='Year',data=sleep_df,orient='v',palette='Set1')\n",
        "plt.title('Boxplot for Year')\n",
        "plt.ylabel('Year')"
      ],
      "metadata": {
        "colab": {
          "base_uri": "https://localhost:8080/",
          "height": 340
        },
        "id": "qJw6VoLMZLjc",
        "outputId": "17c88fc1-7994-4b00-97bd-f12a18e4866a"
      },
      "execution_count": 17,
      "outputs": [
        {
          "output_type": "execute_result",
          "data": {
            "text/plain": [
              "Text(0, 0.5, 'Year')"
            ]
          },
          "metadata": {},
          "execution_count": 17
        },
        {
          "output_type": "display_data",
          "data": {
            "text/plain": [
              "<Figure size 360x360 with 1 Axes>"
            ],
            "image/png": "[encoded data removed]"
          },
          "metadata": {
            "needs_background": "light"
          }
        }
      ]
    },
    {
      "cell_type": "code",
      "source": [
        "# Visualising 'Avg hrs per day sleeping' column\n",
        "plt.figure(figsize=(8,8))\n",
        "g = sns.distplot(a=sleep_df['Avg hrs per day sleeping'])\n",
        "p = plt.title('Avg hrs per day sleeping')"
      ],
      "metadata": {
        "colab": {
          "base_uri": "https://localhost:8080/",
          "height": 569
        },
        "id": "xFbpkjXnXSDQ",
        "outputId": "2dca228b-7254-40e9-b471-9985565c3adc"
      },
      "execution_count": 15,
      "outputs": [
        {
          "output_type": "stream",
          "name": "stderr",
          "text": [
            "/usr/local/lib/python3.8/dist-packages/seaborn/distributions.py:2619: FutureWarning: `distplot` is a deprecated function and will be removed in a future version. Please adapt your code to use either `displot` (a figure-level function with similar flexibility) or `histplot` (an axes-level function for histograms).\n",
            "  warnings.warn(msg, FutureWarning)\n"
          ]
        },
        {
          "output_type": "display_data",
          "data": {
            "text/plain": [
              "<Figure size 576x576 with 1 Axes>"
            ],
            "image/png": "[encoded data removed]"
          },
          "metadata": {
            "needs_background": "light"
          }
        }
      ]
    },
    {
      "cell_type": "code",
      "source": [
        "# Lets Check outliers in 'Rating' Column\n",
        "plt.figure(figsize=(5,5))\n",
        "sns.boxplot(y='Avg hrs per day sleeping',data=sleep_df,orient='v',palette='Set1')\n",
        "plt.title('Boxplot for Avg hrs per day sleeping')\n",
        "plt.ylabel('Avg hrs per day sleeping')"
      ],
      "metadata": {
        "colab": {
          "base_uri": "https://localhost:8080/",
          "height": 340
        },
        "id": "gsVyrSKOZUdM",
        "outputId": "9b2c4ed3-63d7-454c-e3a6-7a2233a283c2"
      },
      "execution_count": 18,
      "outputs": [
        {
          "output_type": "execute_result",
          "data": {
            "text/plain": [
              "Text(0, 0.5, 'Avg hrs per day sleeping')"
            ]
          },
          "metadata": {},
          "execution_count": 18
        },
        {
          "output_type": "display_data",
          "data": {
            "text/plain": [
              "<Figure size 360x360 with 1 Axes>"
            ],
            "image/png": "[encoded data removed]"
          },
          "metadata": {
            "needs_background": "light"
          }
        }
      ]
    },
    {
      "cell_type": "code",
      "source": [
        "# Visualising 'Standard Error' column\n",
        "plt.figure(figsize=(8,8))\n",
        "g = sns.distplot(a=sleep_df['Standard Error'])\n",
        "p = plt.title('Standard Error')"
      ],
      "metadata": {
        "colab": {
          "base_uri": "https://localhost:8080/",
          "height": 569
        },
        "id": "ymzZL_yrXSFm",
        "outputId": "8f6a0817-53ac-4c1b-d6a3-270725afd3ca"
      },
      "execution_count": 16,
      "outputs": [
        {
          "output_type": "stream",
          "name": "stderr",
          "text": [
            "/usr/local/lib/python3.8/dist-packages/seaborn/distributions.py:2619: FutureWarning: `distplot` is a deprecated function and will be removed in a future version. Please adapt your code to use either `displot` (a figure-level function with similar flexibility) or `histplot` (an axes-level function for histograms).\n",
            "  warnings.warn(msg, FutureWarning)\n"
          ]
        },
        {
          "output_type": "display_data",
          "data": {
            "text/plain": [
              "<Figure size 576x576 with 1 Axes>"
            ],
            "image/png": "[encoded data removed]"
          },
          "metadata": {
            "needs_background": "light"
          }
        }
      ]
    },
    {
      "cell_type": "code",
      "source": [
        "# Lets Check outliers in 'Rating' Column\n",
        "plt.figure(figsize=(5,5))\n",
        "sns.boxplot(y='Standard Error',data=sleep_df,orient='v',palette='Set1')\n",
        "plt.title('Boxplot for Standard Error')\n",
        "plt.ylabel('Standard Error')"
      ],
      "metadata": {
        "colab": {
          "base_uri": "https://localhost:8080/",
          "height": 340
        },
        "id": "0XBVsASyZdBW",
        "outputId": "690031af-6bd1-43ef-92a7-554368b15f01"
      },
      "execution_count": 19,
      "outputs": [
        {
          "output_type": "execute_result",
          "data": {
            "text/plain": [
              "Text(0, 0.5, 'Standard Error')"
            ]
          },
          "metadata": {},
          "execution_count": 19
        },
        {
          "output_type": "display_data",
          "data": {
            "text/plain": [
              "<Figure size 360x360 with 1 Axes>"
            ],
            "image/png": "[encoded data removed]"
          },
          "metadata": {
            "needs_background": "light"
          }
        }
      ]
    },
    {
      "cell_type": "code",
      "source": [
        "sleep_df['Period'].value_counts()"
      ],
      "metadata": {
        "colab": {
          "base_uri": "https://localhost:8080/"
        },
        "id": "O6qgzrlfXSH_",
        "outputId": "ecf92bf6-7c32-4e74-9d8c-c785347b510d"
      },
      "execution_count": 22,
      "outputs": [
        {
          "output_type": "execute_result",
          "data": {
            "text/plain": [
              "Annual    945\n",
              "Name: Period, dtype: int64"
            ]
          },
          "metadata": {},
          "execution_count": 22
        }
      ]
    },
    {
      "cell_type": "code",
      "source": [
        "sleep_df['Type of Days'].value_counts()"
      ],
      "metadata": {
        "colab": {
          "base_uri": "https://localhost:8080/"
        },
        "id": "SUEUHGjkaIMF",
        "outputId": "30bcdbd5-fe98-4f14-db63-2749846bacc2"
      },
      "execution_count": 23,
      "outputs": [
        {
          "output_type": "execute_result",
          "data": {
            "text/plain": [
              "All days                     315\n",
              "Nonholiday weekdays          315\n",
              "Weekend days and holidays    315\n",
              "Name: Type of Days, dtype: int64"
            ]
          },
          "metadata": {},
          "execution_count": 23
        }
      ]
    },
    {
      "cell_type": "code",
      "source": [
        "plt.figure(figsize=(8,8))\n",
        "g = sns.countplot(x='Type of Days', data= sleep_df, order = sleep_df['Type of Days'].value_counts().index)\n",
        "p = plt.title('Count plot for Type of Days')\n",
        "p = plt.xlabel('Type of Days')\n",
        "p = plt.ylabel('Count')\n",
        "p = g.set_xticklabels(g.get_xticklabels(), rotation=45, horizontalalignment='right')"
      ],
      "metadata": {
        "colab": {
          "base_uri": "https://localhost:8080/",
          "height": 608
        },
        "id": "8F95EuceaPcr",
        "outputId": "4465a064-eef5-4437-f15d-d1cfd9183540"
      },
      "execution_count": 24,
      "outputs": [
        {
          "output_type": "display_data",
          "data": {
            "text/plain": [
              "<Figure size 576x576 with 1 Axes>"
            ],
            "image/png": "[encoded data removed]"
          },
          "metadata": {
            "needs_background": "light"
          }
        }
      ]
    },
    {
      "cell_type": "code",
      "source": [
        "sleep_df['Age Group'].value_counts()"
      ],
      "metadata": {
        "colab": {
          "base_uri": "https://localhost:8080/"
        },
        "id": "rTu3NUxtafnh",
        "outputId": "9f1bf7ba-6ef2-4757-911d-44a5d3927ea9"
      },
      "execution_count": 25,
      "outputs": [
        {
          "output_type": "execute_result",
          "data": {
            "text/plain": [
              "15 years and over    135\n",
              "15 to 24 years       135\n",
              "25 to 34 years       135\n",
              "35 to 44 years       135\n",
              "45 to 54 years       135\n",
              "55 to 64 years       135\n",
              "65 years and over    135\n",
              "Name: Age Group, dtype: int64"
            ]
          },
          "metadata": {},
          "execution_count": 25
        }
      ]
    },
    {
      "cell_type": "code",
      "source": [
        "plt.figure(figsize=(8,8))\n",
        "g = sns.countplot(x='Age Group', data= sleep_df, order = sleep_df['Age Group'].value_counts().index)\n",
        "p = plt.title('Count plot for Age Group')\n",
        "p = plt.xlabel('Age Group')\n",
        "p = plt.ylabel('Count')\n",
        "p = g.set_xticklabels(g.get_xticklabels(), rotation=45, horizontalalignment='right')"
      ],
      "metadata": {
        "colab": {
          "base_uri": "https://localhost:8080/",
          "height": 574
        },
        "id": "Hnp-eXSuanoh",
        "outputId": "6b53ff1a-142d-4088-9d4e-3d29bbf7d192"
      },
      "execution_count": 26,
      "outputs": [
        {
          "output_type": "display_data",
          "data": {
            "text/plain": [
              "<Figure size 576x576 with 1 Axes>"
            ],
            "image/png": "[encoded data removed]"
          },
          "metadata": {
            "needs_background": "light"
          }
        }
      ]
    },
    {
      "cell_type": "code",
      "source": [
        "sleep_df['Activity'].value_counts()"
      ],
      "metadata": {
        "colab": {
          "base_uri": "https://localhost:8080/"
        },
        "id": "iyL__3XbayOG",
        "outputId": "8e883abc-6ae2-4e67-b94f-b2ec17c97cb1"
      },
      "execution_count": 27,
      "outputs": [
        {
          "output_type": "execute_result",
          "data": {
            "text/plain": [
              "Sleeping    945\n",
              "Name: Activity, dtype: int64"
            ]
          },
          "metadata": {},
          "execution_count": 27
        }
      ]
    },
    {
      "cell_type": "code",
      "source": [
        "sleep_df['Sex'].value_counts()"
      ],
      "metadata": {
        "colab": {
          "base_uri": "https://localhost:8080/"
        },
        "id": "7uMDCyPta5Ra",
        "outputId": "5c308829-9eb4-40a8-b7f0-c7397c27edf7"
      },
      "execution_count": 28,
      "outputs": [
        {
          "output_type": "execute_result",
          "data": {
            "text/plain": [
              "Both     315\n",
              "Men      315\n",
              "Women    315\n",
              "Name: Sex, dtype: int64"
            ]
          },
          "metadata": {},
          "execution_count": 28
        }
      ]
    },
    {
      "cell_type": "code",
      "source": [
        "plt.figure(figsize=(8,8))\n",
        "g = sns.countplot(x='Sex', data= sleep_df, order = sleep_df['Sex'].value_counts().index)\n",
        "p = plt.title('Count plot for Sex')\n",
        "p = plt.xlabel('Sex')\n",
        "p = plt.ylabel('Count')\n",
        "p = g.set_xticklabels(g.get_xticklabels(), rotation=45, horizontalalignment='right')"
      ],
      "metadata": {
        "colab": {
          "base_uri": "https://localhost:8080/",
          "height": 536
        },
        "id": "T0jOHQc0a-DI",
        "outputId": "41864cc2-893e-48f7-aab1-16c970e58f0f"
      },
      "execution_count": 29,
      "outputs": [
        {
          "output_type": "display_data",
          "data": {
            "text/plain": [
              "<Figure size 576x576 with 1 Axes>"
            ],
            "image/png": "[encoded data removed]"
          },
          "metadata": {
            "needs_background": "light"
          }
        }
      ]
    },
    {
      "cell_type": "code",
      "source": [
        "# Finding and plotting the correlation between numerical features\n",
        "\n",
        "cmap = sns.diverging_palette(220, 10, as_cmap=True)\n",
        "plt.figure(figsize=(8,8))\n",
        "corr = sleep_df[['Year','Avg hrs per day sleeping','Standard Error']].corr()\n",
        "\n",
        "# Generate a mask for the upper triangle\n",
        "mask = np.triu(np.ones_like(corr, dtype=np.bool))\n",
        "\n",
        "g = sns.heatmap(corr, mask=mask, vmax=0.3, center=0, cmap=cmap, square=True, annot=True, linewidths=0.05, cbar_kws={\"shrink\": .5})\n",
        "p = plt.title('Correlation matrix for Year, Avg hrs per day sleeping, and Standard Error columns')"
      ],
      "metadata": {
        "colab": {
          "base_uri": "https://localhost:8080/",
          "height": 495
        },
        "id": "-Kvjg0kybaL4",
        "outputId": "15327712-9a2a-4554-e157-8fb8b3403391"
      },
      "execution_count": 30,
      "outputs": [
        {
          "output_type": "stream",
          "name": "stderr",
          "text": [
            "<ipython-input-30-e473d1d093a7>:8: DeprecationWarning: `np.bool` is a deprecated alias for the builtin `bool`. To silence this warning, use `bool` by itself. Doing this will not modify any behavior and is safe. If you specifically wanted the numpy scalar type, use `np.bool_` here.\n",
            "Deprecated in NumPy 1.20; for more details and guidance: https://numpy.org/devdocs/release/1.20.0-notes.html#deprecations\n",
            "  mask = np.triu(np.ones_like(corr, dtype=np.bool))\n"
          ]
        },
        {
          "output_type": "display_data",
          "data": {
            "text/plain": [
              "<Figure size 576x576 with 2 Axes>"
            ],
            "image/png": "[encoded data removed]"
          },
          "metadata": {
            "needs_background": "light"
          }
        }
      ]
    },
    {
      "cell_type": "code",
      "source": [
        "sleep_df.head()"
      ],
      "metadata": {
        "colab": {
          "base_uri": "https://localhost:8080/",
          "height": 206
        },
        "id": "w0UgAOe1ir4n",
        "outputId": "6db80d4f-3d1b-4882-d1a2-18344e2c78fd"
      },
      "execution_count": 31,
      "outputs": [
        {
          "output_type": "execute_result",
          "data": {
            "text/plain": [
              "   Year  Period  Avg hrs per day sleeping  Standard Error Type of Days  \\\n",
              "0  2003  Annual                      8.57           0.018     All days   \n",
              "1  2004  Annual                      8.55           0.026     All days   \n",
              "2  2005  Annual                      8.62           0.023     All days   \n",
              "3  2006  Annual                      8.63           0.024     All days   \n",
              "4  2007  Annual                      8.57           0.024     All days   \n",
              "\n",
              "           Age Group  Activity   Sex  \n",
              "0  15 years and over  Sleeping  Both  \n",
              "1  15 years and over  Sleeping  Both  \n",
              "2  15 years and over  Sleeping  Both  \n",
              "3  15 years and over  Sleeping  Both  \n",
              "4  15 years and over  Sleeping  Both  "
            ],
            "text/html": [
              "\n",
              "  <div id=\"df-0945801e-c3bd-4f55-8051-e85836e45e77\">\n",
              "    <div class=\"colab-df-container\">\n",
              "      <div>\n",
              "<style scoped>\n",
              "    .dataframe tbody tr th:only-of-type {\n",
              "        vertical-align: middle;\n",
              "    }\n",
              "\n",
              "    .dataframe tbody tr th {\n",
              "        vertical-align: top;\n",
              "    }\n",
              "\n",
              "    .dataframe thead th {\n",
              "        text-align: right;\n",
              "    }\n",
              "</style>\n",
              "<table border=\"1\" class=\"dataframe\">\n",
              "  <thead>\n",
              "    <tr style=\"text-align: right;\">\n",
              "      <th></th>\n",
              "      <th>Year</th>\n",
              "      <th>Period</th>\n",
              "      <th>Avg hrs per day sleeping</th>\n",
              "      <th>Standard Error</th>\n",
              "      <th>Type of Days</th>\n",
              "      <th>Age Group</th>\n",
              "      <th>Activity</th>\n",
              "      <th>Sex</th>\n",
              "    </tr>\n",
              "  </thead>\n",
              "  <tbody>\n",
              "    <tr>\n",
              "      <th>0</th>\n",
              "      <td>2003</td>\n",
              "      <td>Annual</td>\n",
              "      <td>8.57</td>\n",
              "      <td>0.018</td>\n",
              "      <td>All days</td>\n",
              "      <td>15 years and over</td>\n",
              "      <td>Sleeping</td>\n",
              "      <td>Both</td>\n",
              "    </tr>\n",
              "    <tr>\n",
              "      <th>1</th>\n",
              "      <td>2004</td>\n",
              "      <td>Annual</td>\n",
              "      <td>8.55</td>\n",
              "      <td>0.026</td>\n",
              "      <td>All days</td>\n",
              "      <td>15 years and over</td>\n",
              "      <td>Sleeping</td>\n",
              "      <td>Both</td>\n",
              "    </tr>\n",
              "    <tr>\n",
              "      <th>2</th>\n",
              "      <td>2005</td>\n",
              "      <td>Annual</td>\n",
              "      <td>8.62</td>\n",
              "      <td>0.023</td>\n",
              "      <td>All days</td>\n",
              "      <td>15 years and over</td>\n",
              "      <td>Sleeping</td>\n",
              "      <td>Both</td>\n",
              "    </tr>\n",
              "    <tr>\n",
              "      <th>3</th>\n",
              "      <td>2006</td>\n",
              "      <td>Annual</td>\n",
              "      <td>8.63</td>\n",
              "      <td>0.024</td>\n",
              "      <td>All days</td>\n",
              "      <td>15 years and over</td>\n",
              "      <td>Sleeping</td>\n",
              "      <td>Both</td>\n",
              "    </tr>\n",
              "    <tr>\n",
              "      <th>4</th>\n",
              "      <td>2007</td>\n",
              "      <td>Annual</td>\n",
              "      <td>8.57</td>\n",
              "      <td>0.024</td>\n",
              "      <td>All days</td>\n",
              "      <td>15 years and over</td>\n",
              "      <td>Sleeping</td>\n",
              "      <td>Both</td>\n",
              "    </tr>\n",
              "  </tbody>\n",
              "</table>\n",
              "</div>\n",
              "      <button class=\"colab-df-convert\" onclick=\"convertToInteractive('df-0945801e-c3bd-4f55-8051-e85836e45e77')\"\n",
              "              title=\"Convert this dataframe to an interactive table.\"\n",
              "              style=\"display:none;\">\n",
              "        \n",
              "  <svg xmlns=\"http://www.w3.org/2000/svg\" height=\"24px\"viewBox=\"0 0 24 24\"\n",
              "       width=\"24px\">\n",
              "    <path d=\"M0 0h24v24H0V0z\" fill=\"none\"/>\n",
              "    <path d=\"M18.56 5.44l.94 2.06.94-2.06 2.06-.94-2.06-.94-.94-2.06-.94 2.06-2.06.94zm-11 1L8.5 8.5l.94-2.06 2.06-.94-2.06-.94L8.5 2.5l-.94 2.06-2.06.94zm10 10l.94 2.06.94-2.06 2.06-.94-2.06-.94-.94-2.06-.94 2.06-2.06.94z\"/><path d=\"M17.41 7.96l-1.37-1.37c-.4-.4-.92-.59-1.43-.59-.52 0-1.04.2-1.43.59L10.3 9.45l-7.72 7.72c-.78.78-.78 2.05 0 2.83L4 21.41c.39.39.9.59 1.41.59.51 0 1.02-.2 1.41-.59l7.78-7.78 2.81-2.81c.8-.78.8-2.07 0-2.86zM5.41 20L4 18.59l7.72-7.72 1.47 1.35L5.41 20z\"/>\n",
              "  </svg>\n",
              "      </button>\n",
              "      \n",
              "  <style>\n",
              "    .colab-df-container {\n",
              "      display:flex;\n",
              "      flex-wrap:wrap;\n",
              "      gap: 12px;\n",
              "    }\n",
              "\n",
              "    .colab-df-convert {\n",
              "      background-color: #E8F0FE;\n",
              "      border: none;\n",
              "      border-radius: 50%;\n",
              "      cursor: pointer;\n",
              "      display: none;\n",
              "      fill: #1967D2;\n",
              "      height: 32px;\n",
              "      padding: 0 0 0 0;\n",
              "      width: 32px;\n",
              "    }\n",
              "\n",
              "    .colab-df-convert:hover {\n",
              "      background-color: #E2EBFA;\n",
              "      box-shadow: 0px 1px 2px rgba(60, 64, 67, 0.3), 0px 1px 3px 1px rgba(60, 64, 67, 0.15);\n",
              "      fill: #174EA6;\n",
              "    }\n",
              "\n",
              "    [theme=dark] .colab-df-convert {\n",
              "      background-color: #3B4455;\n",
              "      fill: #D2E3FC;\n",
              "    }\n",
              "\n",
              "    [theme=dark] .colab-df-convert:hover {\n",
              "      background-color: #434B5C;\n",
              "      box-shadow: 0px 1px 3px 1px rgba(0, 0, 0, 0.15);\n",
              "      filter: drop-shadow(0px 1px 2px rgba(0, 0, 0, 0.3));\n",
              "      fill: #FFFFFF;\n",
              "    }\n",
              "  </style>\n",
              "\n",
              "      <script>\n",
              "        const buttonEl =\n",
              "          document.querySelector('#df-0945801e-c3bd-4f55-8051-e85836e45e77 button.colab-df-convert');\n",
              "        buttonEl.style.display =\n",
              "          google.colab.kernel.accessAllowed ? 'block' : 'none';\n",
              "\n",
              "        async function convertToInteractive(key) {\n",
              "          const element = document.querySelector('#df-0945801e-c3bd-4f55-8051-e85836e45e77');\n",
              "          const dataTable =\n",
              "            await google.colab.kernel.invokeFunction('convertToInteractive',\n",
              "                                                     [key], {});\n",
              "          if (!dataTable) return;\n",
              "\n",
              "          const docLinkHtml = 'Like what you see? Visit the ' +\n",
              "            '<a target=\"_blank\" href=https://colab.research.google.com/notebooks/data_table.ipynb>data table notebook</a>'\n",
              "            + ' to learn more about interactive tables.';\n",
              "          element.innerHTML = '';\n",
              "          dataTable['output_type'] = 'display_data';\n",
              "          await google.colab.output.renderOutput(dataTable, element);\n",
              "          const docLink = document.createElement('div');\n",
              "          docLink.innerHTML = docLinkHtml;\n",
              "          element.appendChild(docLink);\n",
              "        }\n",
              "      </script>\n",
              "    </div>\n",
              "  </div>\n",
              "  "
            ]
          },
          "metadata": {},
          "execution_count": 31
        }
      ]
    },
    {
      "cell_type": "code",
      "source": [
        "# Renaming column\n",
        "sleep_df.rename(columns={'Year':'year', 'Period':'period', 'Avg hrs per day sleeping':'avg_hrs_sleep', 'Standard Error':'std_error' ,\n",
        "                         'Types of Days':'type_of_days', 'Age Group': 'age', 'Activity' :'activity', 'Sex':'sex'}, inplace=True)"
      ],
      "metadata": {
        "id": "9WnhscZ5ir8-"
      },
      "execution_count": 32,
      "outputs": []
    },
    {
      "cell_type": "code",
      "source": [
        "# Map ranks to period column\n",
        "\n",
        "period_map = {'Annual': 1}\n",
        "\n",
        "sleep_df['period'] = sleep_df['period'].map(period_map)"
      ],
      "metadata": {
        "id": "wwtoLvvitbv3"
      },
      "execution_count": 35,
      "outputs": []
    },
    {
      "cell_type": "code",
      "source": [
        "sleep_df.head()"
      ],
      "metadata": {
        "colab": {
          "base_uri": "https://localhost:8080/",
          "height": 206
        },
        "id": "DC_hZHNhXSM5",
        "outputId": "ffe6a246-7e00-4070-a97c-89847686904a"
      },
      "execution_count": 36,
      "outputs": [
        {
          "output_type": "execute_result",
          "data": {
            "text/plain": [
              "   year  period  avg_hrs_sleep  std_error Type of Days                age  \\\n",
              "0  2003       1           8.57      0.018     All days  15 years and over   \n",
              "1  2004       1           8.55      0.026     All days  15 years and over   \n",
              "2  2005       1           8.62      0.023     All days  15 years and over   \n",
              "3  2006       1           8.63      0.024     All days  15 years and over   \n",
              "4  2007       1           8.57      0.024     All days  15 years and over   \n",
              "\n",
              "   activity   sex  \n",
              "0  Sleeping  Both  \n",
              "1  Sleeping  Both  \n",
              "2  Sleeping  Both  \n",
              "3  Sleeping  Both  \n",
              "4  Sleeping  Both  "
            ],
            "text/html": [
              "\n",
              "  <div id=\"df-e29bc7ad-044d-4172-b550-1257584ae47c\">\n",
              "    <div class=\"colab-df-container\">\n",
              "      <div>\n",
              "<style scoped>\n",
              "    .dataframe tbody tr th:only-of-type {\n",
              "        vertical-align: middle;\n",
              "    }\n",
              "\n",
              "    .dataframe tbody tr th {\n",
              "        vertical-align: top;\n",
              "    }\n",
              "\n",
              "    .dataframe thead th {\n",
              "        text-align: right;\n",
              "    }\n",
              "</style>\n",
              "<table border=\"1\" class=\"dataframe\">\n",
              "  <thead>\n",
              "    <tr style=\"text-align: right;\">\n",
              "      <th></th>\n",
              "      <th>year</th>\n",
              "      <th>period</th>\n",
              "      <th>avg_hrs_sleep</th>\n",
              "      <th>std_error</th>\n",
              "      <th>Type of Days</th>\n",
              "      <th>age</th>\n",
              "      <th>activity</th>\n",
              "      <th>sex</th>\n",
              "    </tr>\n",
              "  </thead>\n",
              "  <tbody>\n",
              "    <tr>\n",
              "      <th>0</th>\n",
              "      <td>2003</td>\n",
              "      <td>1</td>\n",
              "      <td>8.57</td>\n",
              "      <td>0.018</td>\n",
              "      <td>All days</td>\n",
              "      <td>15 years and over</td>\n",
              "      <td>Sleeping</td>\n",
              "      <td>Both</td>\n",
              "    </tr>\n",
              "    <tr>\n",
              "      <th>1</th>\n",
              "      <td>2004</td>\n",
              "      <td>1</td>\n",
              "      <td>8.55</td>\n",
              "      <td>0.026</td>\n",
              "      <td>All days</td>\n",
              "      <td>15 years and over</td>\n",
              "      <td>Sleeping</td>\n",
              "      <td>Both</td>\n",
              "    </tr>\n",
              "    <tr>\n",
              "      <th>2</th>\n",
              "      <td>2005</td>\n",
              "      <td>1</td>\n",
              "      <td>8.62</td>\n",
              "      <td>0.023</td>\n",
              "      <td>All days</td>\n",
              "      <td>15 years and over</td>\n",
              "      <td>Sleeping</td>\n",
              "      <td>Both</td>\n",
              "    </tr>\n",
              "    <tr>\n",
              "      <th>3</th>\n",
              "      <td>2006</td>\n",
              "      <td>1</td>\n",
              "      <td>8.63</td>\n",
              "      <td>0.024</td>\n",
              "      <td>All days</td>\n",
              "      <td>15 years and over</td>\n",
              "      <td>Sleeping</td>\n",
              "      <td>Both</td>\n",
              "    </tr>\n",
              "    <tr>\n",
              "      <th>4</th>\n",
              "      <td>2007</td>\n",
              "      <td>1</td>\n",
              "      <td>8.57</td>\n",
              "      <td>0.024</td>\n",
              "      <td>All days</td>\n",
              "      <td>15 years and over</td>\n",
              "      <td>Sleeping</td>\n",
              "      <td>Both</td>\n",
              "    </tr>\n",
              "  </tbody>\n",
              "</table>\n",
              "</div>\n",
              "      <button class=\"colab-df-convert\" onclick=\"convertToInteractive('df-e29bc7ad-044d-4172-b550-1257584ae47c')\"\n",
              "              title=\"Convert this dataframe to an interactive table.\"\n",
              "              style=\"display:none;\">\n",
              "        \n",
              "  <svg xmlns=\"http://www.w3.org/2000/svg\" height=\"24px\"viewBox=\"0 0 24 24\"\n",
              "       width=\"24px\">\n",
              "    <path d=\"M0 0h24v24H0V0z\" fill=\"none\"/>\n",
              "    <path d=\"M18.56 5.44l.94 2.06.94-2.06 2.06-.94-2.06-.94-.94-2.06-.94 2.06-2.06.94zm-11 1L8.5 8.5l.94-2.06 2.06-.94-2.06-.94L8.5 2.5l-.94 2.06-2.06.94zm10 10l.94 2.06.94-2.06 2.06-.94-2.06-.94-.94-2.06-.94 2.06-2.06.94z\"/><path d=\"M17.41 7.96l-1.37-1.37c-.4-.4-.92-.59-1.43-.59-.52 0-1.04.2-1.43.59L10.3 9.45l-7.72 7.72c-.78.78-.78 2.05 0 2.83L4 21.41c.39.39.9.59 1.41.59.51 0 1.02-.2 1.41-.59l7.78-7.78 2.81-2.81c.8-.78.8-2.07 0-2.86zM5.41 20L4 18.59l7.72-7.72 1.47 1.35L5.41 20z\"/>\n",
              "  </svg>\n",
              "      </button>\n",
              "      \n",
              "  <style>\n",
              "    .colab-df-container {\n",
              "      display:flex;\n",
              "      flex-wrap:wrap;\n",
              "      gap: 12px;\n",
              "    }\n",
              "\n",
              "    .colab-df-convert {\n",
              "      background-color: #E8F0FE;\n",
              "      border: none;\n",
              "      border-radius: 50%;\n",
              "      cursor: pointer;\n",
              "      display: none;\n",
              "      fill: #1967D2;\n",
              "      height: 32px;\n",
              "      padding: 0 0 0 0;\n",
              "      width: 32px;\n",
              "    }\n",
              "\n",
              "    .colab-df-convert:hover {\n",
              "      background-color: #E2EBFA;\n",
              "      box-shadow: 0px 1px 2px rgba(60, 64, 67, 0.3), 0px 1px 3px 1px rgba(60, 64, 67, 0.15);\n",
              "      fill: #174EA6;\n",
              "    }\n",
              "\n",
              "    [theme=dark] .colab-df-convert {\n",
              "      background-color: #3B4455;\n",
              "      fill: #D2E3FC;\n",
              "    }\n",
              "\n",
              "    [theme=dark] .colab-df-convert:hover {\n",
              "      background-color: #434B5C;\n",
              "      box-shadow: 0px 1px 3px 1px rgba(0, 0, 0, 0.15);\n",
              "      filter: drop-shadow(0px 1px 2px rgba(0, 0, 0, 0.3));\n",
              "      fill: #FFFFFF;\n",
              "    }\n",
              "  </style>\n",
              "\n",
              "      <script>\n",
              "        const buttonEl =\n",
              "          document.querySelector('#df-e29bc7ad-044d-4172-b550-1257584ae47c button.colab-df-convert');\n",
              "        buttonEl.style.display =\n",
              "          google.colab.kernel.accessAllowed ? 'block' : 'none';\n",
              "\n",
              "        async function convertToInteractive(key) {\n",
              "          const element = document.querySelector('#df-e29bc7ad-044d-4172-b550-1257584ae47c');\n",
              "          const dataTable =\n",
              "            await google.colab.kernel.invokeFunction('convertToInteractive',\n",
              "                                                     [key], {});\n",
              "          if (!dataTable) return;\n",
              "\n",
              "          const docLinkHtml = 'Like what you see? Visit the ' +\n",
              "            '<a target=\"_blank\" href=https://colab.research.google.com/notebooks/data_table.ipynb>data table notebook</a>'\n",
              "            + ' to learn more about interactive tables.';\n",
              "          element.innerHTML = '';\n",
              "          dataTable['output_type'] = 'display_data';\n",
              "          await google.colab.output.renderOutput(dataTable, element);\n",
              "          const docLink = document.createElement('div');\n",
              "          docLink.innerHTML = docLinkHtml;\n",
              "          element.appendChild(docLink);\n",
              "        }\n",
              "      </script>\n",
              "    </div>\n",
              "  </div>\n",
              "  "
            ]
          },
          "metadata": {},
          "execution_count": 36
        }
      ]
    },
    {
      "cell_type": "code",
      "source": [],
      "metadata": {
        "id": "259YceuxXSO9"
      },
      "execution_count": null,
      "outputs": []
    }
  ]
}